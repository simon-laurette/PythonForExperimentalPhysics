{
 "cells": [
  {
   "cell_type": "markdown",
   "metadata": {},
   "source": [
    "# Python en TP de Physique-Chimie  <a id=\"toc\"></a>\n",
    "\n",
    "## Table des matières\n",
    "\n",
    "\n",
    "* [1. Importer des données depuis un tableur](#1.-Importer-des-données-depuis-un-tableur)\n",
    "* [2.  Tracer une courbe avec les incertitudes](#2.-Tracer-une-courbe-avec-les-incertitudes)\n",
    "\n",
    "\n"
   ]
  },
  {
   "cell_type": "markdown",
   "metadata": {
    "id": "wvzgane_Ebu-"
   },
   "source": [
    "## 1. Importer des données depuis un tableur \n",
    "[Retour à la table des matières](#toc)\n",
    "\n",
    "\n",
    "Vous avez réalisé un jeu de mesures sur un tableur et avez obtenu un fichier type \".xls\" ou \".xlsx\" à l'aide d'Excel ou Libre Office. \n",
    "\n",
    "**Comment l'importer rapidement sur Python ?**\n",
    "\n",
    "\n",
    "Nous allons pour cela utiliser les modules :\n",
    "*   ```pandas``` pour l'import des données depuis le tableur\n",
    "*  ```matplotlib.pyplot``` pour les tracés\n",
    "* ```numpy```pour le traitement des tableaux\n",
    "\n",
    "\n",
    "\n",
    "\n",
    "\n"
   ]
  },
  {
   "cell_type": "code",
   "execution_count": 1,
   "metadata": {
    "collapsed": true,
    "executionInfo": {
     "elapsed": 521,
     "status": "ok",
     "timestamp": 1618066428228,
     "user": {
      "displayName": "Simon Laurette",
      "photoUrl": "",
      "userId": "09647193347114285815"
     },
     "user_tz": -120
    },
    "id": "Fw3qhMTPK80S",
    "jupyter": {
     "outputs_hidden": true
    }
   },
   "outputs": [],
   "source": [
    "import pandas as pd\n",
    "import numpy as np\n",
    "import matplotlib.pyplot as plt"
   ]
  },
  {
   "cell_type": "markdown",
   "metadata": {
    "id": "qQvdp5ykLE5P"
   },
   "source": [
    "Dans un premier temps, on récupère les données qui sont dans le tableur. Une bonne pratique est que chaque grandeur corresponde à une colonne du tableur, et que la première ligne corresponde au nom de la grandeur et à son unité. Par exemple, dans notre fichier ```determinationg.xls```, les trois premières lignes sont :\n",
    "\n",
    " | $$\\Delta t  \\mbox{  (s)  }$$ |  $$u(\\Delta t)  \\mbox{  (s)  }$$  | $$h  \\mbox{  (m)  }$$ | $$u(h)  \\mbox{  (m)  }$$ |\n",
    " | ---------------|------------------------|-----------------|--------------- |\n",
    " |0,25|0,05|0,5|0,02|\n",
    " |0,42|0,05|0,75|0,02|\n",
    "\n",
    "\n",
    "On va importer les données du tableur dans Python sous la forme d'un ```DataFrame```, appelé ```mesdonnees``` ci-dessous, à l'aide de la fonction ```read_excel```:\n"
   ]
  },
  {
   "cell_type": "code",
   "execution_count": 6,
   "metadata": {
    "collapsed": true,
    "executionInfo": {
     "elapsed": 602,
     "status": "ok",
     "timestamp": 1618066431581,
     "user": {
      "displayName": "Simon Laurette",
      "photoUrl": "",
      "userId": "09647193347114285815"
     },
     "user_tz": -120
    },
    "id": "AdalWMfAQLWu",
    "jupyter": {
     "outputs_hidden": true
    },
    "slideshow": {
     "slide_type": "subslide"
    }
   },
   "outputs": [],
   "source": [
    "mesdonnees = pd.read_excel(\"determinationg.xls\")\n",
    "# si le chemin relatif ne fonctionne pas, vous pouvez indiquer le chemin absolu\n",
    "# avec des // comme \"C://Users//etc//monfichier.xlsx\""
   ]
  },
  {
   "cell_type": "markdown",
   "metadata": {
    "id": "KT8qt2RmQmj1",
    "slideshow": {
     "slide_type": "subslide"
    }
   },
   "source": [
    "Il ne reste plus désormais qu'à récupérer chaque colonne du tableur sous forme d'un tableau ```numpy``` à l'aide de la méthode ```values``` suivante :"
   ]
  },
  {
   "cell_type": "code",
   "execution_count": 7,
   "metadata": {
    "collapsed": true,
    "executionInfo": {
     "elapsed": 930,
     "status": "ok",
     "timestamp": 1618066448193,
     "user": {
      "displayName": "Simon Laurette",
      "photoUrl": "",
      "userId": "09647193347114285815"
     },
     "user_tz": -120
    },
    "id": "aVMjKhiaRFCE",
    "jupyter": {
     "outputs_hidden": true
    }
   },
   "outputs": [],
   "source": [
    "deltat=mesdonnees.values[:,0] \n",
    "# les : indiquent que l'on prend toutes les lignes, \n",
    "# le deuxième argument indique la colonne, la première étant repérée par 0\n",
    "u_deltat=mesdonnees.values[:,1]\n",
    "h=mesdonnees.values[:,2]\n",
    "u_h=mesdonnees.values[:,3]"
   ]
  },
  {
   "cell_type": "markdown",
   "metadata": {
    "id": "GJ1ASPs3Rql1"
   },
   "source": [
    "On peut vérifier que l'on a bien récupéré ce que l'on voulait :"
   ]
  },
  {
   "cell_type": "code",
   "execution_count": 12,
   "metadata": {
    "colab": {
     "base_uri": "https://localhost:8080/"
    },
    "collapsed": true,
    "executionInfo": {
     "elapsed": 927,
     "status": "ok",
     "timestamp": 1618066477087,
     "user": {
      "displayName": "Simon Laurette",
      "photoUrl": "",
      "userId": "09647193347114285815"
     },
     "user_tz": -120
    },
    "id": "9wtUZXegRvMH",
    "jupyter": {
     "outputs_hidden": true
    },
    "outputId": "12edbc6e-49d6-49d0-bddc-499b77b01292"
   },
   "outputs": [
    {
     "data": {
      "text/plain": [
       "array([0.25, 0.42, 0.5 , 0.53, 0.53, 0.58, 0.72, 0.6 , 0.8 , 0.7 , 0.7 ])"
      ]
     },
     "execution_count": 12,
     "metadata": {},
     "output_type": "execute_result"
    }
   ],
   "source": [
    "deltat"
   ]
  },
  {
   "cell_type": "code",
   "execution_count": 13,
   "metadata": {
    "colab": {
     "base_uri": "https://localhost:8080/"
    },
    "collapsed": true,
    "executionInfo": {
     "elapsed": 1162,
     "status": "ok",
     "timestamp": 1618066496325,
     "user": {
      "displayName": "Simon Laurette",
      "photoUrl": "",
      "userId": "09647193347114285815"
     },
     "user_tz": -120
    },
    "id": "odNtPCp6Rz38",
    "jupyter": {
     "outputs_hidden": true
    },
    "outputId": "f7943208-b26a-4b5a-cc70-4feab27f9738"
   },
   "outputs": [
    {
     "data": {
      "text/plain": [
       "array([0.05, 0.05, 0.05, 0.05, 0.05, 0.05, 0.05, 0.05, 0.05, 0.05, 0.05])"
      ]
     },
     "execution_count": 13,
     "metadata": {},
     "output_type": "execute_result"
    }
   ],
   "source": [
    "u_deltat"
   ]
  },
  {
   "cell_type": "code",
   "execution_count": 14,
   "metadata": {
    "colab": {
     "base_uri": "https://localhost:8080/"
    },
    "collapsed": true,
    "executionInfo": {
     "elapsed": 899,
     "status": "ok",
     "timestamp": 1618066505093,
     "user": {
      "displayName": "Simon Laurette",
      "photoUrl": "",
      "userId": "09647193347114285815"
     },
     "user_tz": -120
    },
    "id": "Z5iaQrNER2el",
    "jupyter": {
     "outputs_hidden": true
    },
    "outputId": "f2e820d0-09c0-4991-e386-6b7ab157c7e6"
   },
   "outputs": [
    {
     "data": {
      "text/plain": [
       "array([0.5 , 0.75, 1.  , 1.25, 1.5 , 1.75, 2.  , 2.25, 2.5 , 2.75, 3.  ])"
      ]
     },
     "execution_count": 14,
     "metadata": {},
     "output_type": "execute_result"
    }
   ],
   "source": [
    "h"
   ]
  },
  {
   "cell_type": "code",
   "execution_count": 16,
   "metadata": {
    "colab": {
     "base_uri": "https://localhost:8080/"
    },
    "collapsed": true,
    "executionInfo": {
     "elapsed": 545,
     "status": "ok",
     "timestamp": 1618066514081,
     "user": {
      "displayName": "Simon Laurette",
      "photoUrl": "",
      "userId": "09647193347114285815"
     },
     "user_tz": -120
    },
    "id": "-_QKLP9PR4ba",
    "jupyter": {
     "outputs_hidden": true
    },
    "outputId": "ede6f973-e54f-423e-93cb-26ceef38e870"
   },
   "outputs": [
    {
     "data": {
      "text/plain": [
       "array([0.02, 0.02, 0.02, 0.02, 0.02, 0.02, 0.02, 0.02, 0.02, 0.02, 0.02])"
      ]
     },
     "execution_count": 16,
     "metadata": {},
     "output_type": "execute_result"
    }
   ],
   "source": [
    "u_h"
   ]
  },
  {
   "cell_type": "markdown",
   "metadata": {
    "id": "3ckpqL5hSQB9"
   },
   "source": [
    "## 2. Tracer une courbe avec les incertitudes\n",
    "[Retour à la table des matières](#toc)\n",
    "\n",
    "On s'intéresse à la durée d'une chute libre en fonction de la hauteur du lâché. On a réalisé des expériences et on dispose de 4 tableaux ```numpy``` depuis un tableur :\n",
    "\n",
    "\n",
    "*   ```h``` les hauteurs de lâché en m\n",
    "*  ```u_h``` les incertitudes type associées en m\n",
    "* ```deltat``` les durées de chute en s\n",
    "*``` u_deltat``` les incertitudes type associées en s\n",
    "\n",
    "**Comment tracer de manière élégante $\\Delta t(h)$ en faisant apparaître les incertitudes type ?**\n",
    "\n",
    "Nous allons utiliser pour cela le module ```matplotlib.pyplot```.\n",
    "\n",
    "\n"
   ]
  },
  {
   "cell_type": "code",
   "execution_count": 17,
   "metadata": {
    "colab": {
     "base_uri": "https://localhost:8080/",
     "height": 313
    },
    "collapsed": true,
    "executionInfo": {
     "elapsed": 1013,
     "status": "ok",
     "timestamp": 1618067337222,
     "user": {
      "displayName": "Simon Laurette",
      "photoUrl": "",
      "userId": "09647193347114285815"
     },
     "user_tz": -120
    },
    "id": "4QJx-XxcTzIK",
    "jupyter": {
     "outputs_hidden": true
    },
    "outputId": "54cd4111-2c68-4fb9-e956-21e80ac31253"
   },
   "outputs": [
    {
     "data": {
      "text/plain": [
       "Text(0.5, 1.0, 'Chute libre : durée en fonction de la hauteur')"
      ]
     },
     "execution_count": 17,
     "metadata": {},
     "output_type": "execute_result"
    },
    {
     "data": {
      "image/png": "[encoded data removed]",
      "text/plain": [
       "<Figure size 432x288 with 1 Axes>"
      ]
     },
     "metadata": {
      "needs_background": "light"
     },
     "output_type": "display_data"
    }
   ],
   "source": [
    "import matplotlib.pyplot as plt\n",
    "\n",
    "plt.figure() #créeons une nouvelle figure\n",
    "plt.errorbar(h,deltat,xerr=u_h,yerr=u_deltat,fmt='.') #les incertitudes type sont placées dans les arguments xerr et yerr\n",
    "# fmt='.' permet de ne pas relier les points (chaque mesure est un point + barre d'incertitude)\n",
    "plt.grid(which='both') #on ajoute des grilles verticales et horizontales\n",
    "plt.xlabel(\"Hauteur de lâché (m)\") #on nomme l'axe horizontal\n",
    "plt.ylabel(\"Temps de chute (s)\") #on nomme l'axe vertical\n",
    "plt.title(\"Chute libre : durée en fonction de la hauteur\") # titre (optionnel)"
   ]
  }
 ],
 "metadata": {
  "colab": {
   "authorship_tag": "ABX9TyNLBjOfk3h9N1b4u61uozfh",
   "name": "TP Physique-Chimie : Tracer un graphe sur Python",
   "provenance": [],
   "toc_visible": true
  },
  "kernelspec": {
   "display_name": "Python 3",
   "language": "python",
   "name": "python3"
  },
  "language_info": {
   "codemirror_mode": {
    "name": "ipython",
    "version": 3
   },
   "file_extension": ".py",
   "mimetype": "text/x-python",
   "name": "python",
   "nbconvert_exporter": "python",
   "pygments_lexer": "ipython3",
   "version": "3.8.5"
  }
 },
 "nbformat": 4,
 "nbformat_minor": 4
}
